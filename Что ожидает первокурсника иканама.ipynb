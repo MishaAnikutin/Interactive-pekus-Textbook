{
 "cells": [
  {
   "cell_type": "markdown",
   "id": "4320f8f0-9473-48f4-8f92-226b6a2a2c6e",
   "metadata": {},
   "source": [
    "# Что ожидает первокурсника Иканама\n",
    "\n",
    "![](https://raw.githubusercontent.com/FUlyankin/ekenam_grand_research/master/images/cover.png)\n",
    "\n",
    "Мы собрали интерактивные примеры сложных тем, которые встретятся вам на первом курсе"
   ]
  },
  {
   "cell_type": "markdown",
   "id": "fc3005fc-05d0-4de1-ae60-904a64482e99",
   "metadata": {},
   "source": [
    "## Матанализ"
   ]
  },
  {
   "cell_type": "code",
   "execution_count": 1,
   "id": "1e769e9b-e66f-49f4-bf9c-c7d280eff526",
   "metadata": {},
   "outputs": [],
   "source": [
    "from math_analysis import *"
   ]
  },
  {
   "cell_type": "code",
   "execution_count": null,
   "id": "4d77fe9d-c397-4f7b-99a7-bbcaf4ff6b3d",
   "metadata": {},
   "outputs": [],
   "source": []
  },
  {
   "cell_type": "markdown",
   "id": "ac0ba6f8-33e4-4b6f-b075-bac10009358c",
   "metadata": {},
   "source": [
    "## Линейная алгебра"
   ]
  },
  {
   "cell_type": "code",
   "execution_count": 2,
   "id": "c34d4b02-61da-456c-8aae-21004908de15",
   "metadata": {},
   "outputs": [],
   "source": [
    "from linear_algebra import *"
   ]
  },
  {
   "cell_type": "code",
   "execution_count": null,
   "id": "fd801f93-4e92-4004-bc9b-f48c31d78c34",
   "metadata": {},
   "outputs": [],
   "source": []
  },
  {
   "cell_type": "markdown",
   "id": "541cffd6-e8d1-4fa9-a5e5-f77c30f078e7",
   "metadata": {},
   "source": [
    "## Алгоритмы и структуры данных"
   ]
  },
  {
   "cell_type": "code",
   "execution_count": 3,
   "id": "22432483-556a-4a24-a919-bf9114360d50",
   "metadata": {},
   "outputs": [],
   "source": [
    "from algorithms import *"
   ]
  },
  {
   "cell_type": "code",
   "execution_count": null,
   "id": "01f71837-c075-4929-868b-ec7b5993b17e",
   "metadata": {},
   "outputs": [],
   "source": []
  },
  {
   "cell_type": "markdown",
   "id": "cd4b1d9f-ad54-422a-a20b-5a6b6e6ef627",
   "metadata": {},
   "source": [
    "## Экономика"
   ]
  },
  {
   "cell_type": "code",
   "execution_count": 1,
   "id": "875eb524-2ab5-4287-bae6-52110a0462d9",
   "metadata": {},
   "outputs": [],
   "source": [
    "from economics import goverment_intervention"
   ]
  },
  {
   "cell_type": "code",
   "execution_count": 2,
   "id": "dfc95913-8514-4e6a-b5d1-f1166d0ecb25",
   "metadata": {},
   "outputs": [
    {
     "data": {
      "text/html": [
       "\n",
       "        <iframe\n",
       "            width=\"100%\"\n",
       "            height=\"650\"\n",
       "            src=\"http://127.0.0.1:8050/\"\n",
       "            frameborder=\"0\"\n",
       "            allowfullscreen\n",
       "            \n",
       "        ></iframe>\n",
       "        "
      ],
      "text/plain": [
       "<IPython.lib.display.IFrame at 0x7f6bc81a2950>"
      ]
     },
     "metadata": {},
     "output_type": "display_data"
    }
   ],
   "source": [
    "goverment_intervention.run_server(mode='inline')"
   ]
  }
 ],
 "metadata": {
  "kernelspec": {
   "display_name": "Python 3 (ipykernel)",
   "language": "python",
   "name": "python3"
  },
  "language_info": {
   "codemirror_mode": {
    "name": "ipython",
    "version": 3
   },
   "file_extension": ".py",
   "mimetype": "text/x-python",
   "name": "python",
   "nbconvert_exporter": "python",
   "pygments_lexer": "ipython3",
   "version": "3.11.8"
  }
 },
 "nbformat": 4,
 "nbformat_minor": 5
}
